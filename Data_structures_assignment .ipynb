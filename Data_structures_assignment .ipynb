{
 "cells": [
  {
   "cell_type": "markdown",
   "id": "0d891969-a469-450f-ad04-b7dc0231f32f",
   "metadata": {},
   "source": [
    " # Data types and Structures questions"
   ]
  },
  {
   "cell_type": "markdown",
   "id": "a74f80d2-ccde-43c4-92db-5b08ed7df0a9",
   "metadata": {},
   "source": [
    "Q-1 What are data structures, and why are they important?           \n",
    "Ans- data structures are specialized ways of organising and storing data so that it can be accessed and manipulated efficiently."
   ]
  },
  {
   "cell_type": "markdown",
   "id": "b4978585-93a5-43d7-a4c4-82fc73c859f2",
   "metadata": {},
   "source": [
    "Q-2  Explain the difference between mutable and immutable data types with examples           \n",
    "Ans- Mutable data structures can be change after creation while immutable data structures cannot be changed after ceration.  "
   ]
  },
  {
   "cell_type": "code",
   "execution_count": 3,
   "id": "1038eac2-3d95-46b2-a557-8bb5babef70d",
   "metadata": {},
   "outputs": [
    {
     "name": "stdout",
     "output_type": "stream",
     "text": [
      "[10, 30, 'ajay', (3+5j)]\n"
     ]
    }
   ],
   "source": [
    "#example Q-2 \n",
    "list=[10,30,\"hemant\",3+5j]\n",
    "list[2]=\"ajay\"\n",
    "print(list)"
   ]
  },
  {
   "cell_type": "code",
   "execution_count": 4,
   "id": "29e41478-49b9-40ef-ad2e-2a78cd384390",
   "metadata": {},
   "outputs": [
    {
     "ename": "TypeError",
     "evalue": "'tuple' object does not support item assignment",
     "output_type": "error",
     "traceback": [
      "\u001b[1;31m---------------------------------------------------------------------------\u001b[0m",
      "\u001b[1;31mTypeError\u001b[0m                                 Traceback (most recent call last)",
      "Cell \u001b[1;32mIn[4], line 3\u001b[0m\n\u001b[0;32m      1\u001b[0m \u001b[38;5;66;03m#example Q-2\u001b[39;00m\n\u001b[0;32m      2\u001b[0m \u001b[38;5;28mtuple\u001b[39m\u001b[38;5;241m=\u001b[39m(\u001b[38;5;241m10\u001b[39m,\u001b[38;5;241m30\u001b[39m,\u001b[38;5;241m40\u001b[39m,\u001b[38;5;241m50\u001b[39m)\n\u001b[1;32m----> 3\u001b[0m \u001b[38;5;28;43mtuple\u001b[39;49m\u001b[43m[\u001b[49m\u001b[38;5;241;43m2\u001b[39;49m\u001b[43m]\u001b[49m\u001b[38;5;241m=\u001b[39m\u001b[38;5;241m100\u001b[39m        \u001b[38;5;66;03m# it gives error because tuple doesn't support item assignment\u001b[39;00m\n",
      "\u001b[1;31mTypeError\u001b[0m: 'tuple' object does not support item assignment"
     ]
    }
   ],
   "source": [
    "#example Q-2\n",
    "tuple=(10,30,40,50)\n",
    "tuple[2]=100        # it gives error because tuple doesn't support item assignment"
   ]
  },
  {
   "cell_type": "markdown",
   "id": "9779e4f6-7069-4cc2-8cd4-c023d7f5102f",
   "metadata": {},
   "source": [
    "Q-3  What are the main differences between lists and tuples in Python?                       \n",
    "Ans- Mutability is the main difference between lists and tuples.Lists are mutable while tuples are not mutable."
   ]
  },
  {
   "cell_type": "code",
   "execution_count": 5,
   "id": "2a764ef3-a329-4adf-8dab-ce62a889d618",
   "metadata": {},
   "outputs": [
    {
     "data": {
      "text/plain": [
       "{'name': 'hemant', 'department': 'data science', 'salary': 100000}"
      ]
     },
     "execution_count": 5,
     "metadata": {},
     "output_type": "execute_result"
    }
   ],
   "source": [
    "# Q-4 Describe how dictionaries store data.                   \n",
    "# Ans- Dictionaries store data as Key value pair.\n",
    "d={\"name\":\"hemant\",\"department\":\"data science\",\"salary\":100000}\n",
    "d"
   ]
  },
  {
   "cell_type": "code",
   "execution_count": 6,
   "id": "62d7e4e4-e589-4aa6-9838-aecb59c7d095",
   "metadata": {},
   "outputs": [
    {
     "name": "stdout",
     "output_type": "stream",
     "text": [
      "{1, 2, 3, 5, 7, 8}\n"
     ]
    }
   ],
   "source": [
    "# Q-5 Why might you use a set instead of a list in Python?\n",
    "#Ans-When we need only unique items we use set instead of list.\n",
    "list=[1,2,3,5,5,5,7,7,8]\n",
    "my_set=set(list)\n",
    "print(my_set)"
   ]
  },
  {
   "cell_type": "code",
   "execution_count": 7,
   "id": "c4d4c1b6-b670-47d1-a977-c42c30713382",
   "metadata": {},
   "outputs": [],
   "source": [
    "#Q-6 What is a string in Python, and how is it different from a list?\n",
    "#Ans- string is a sequence of characters that are used to represent and manipulate textual data.String not support item assignment while lists supports item assignment.       "
   ]
  },
  {
   "cell_type": "code",
   "execution_count": 8,
   "id": "2385e7c0-698b-4d72-8b7a-2b998c7f83c0",
   "metadata": {},
   "outputs": [],
   "source": [
    "# Q-7 How do tuples ensure data integrity in Python?\n",
    "# Ans- Tuples are immutable means data cannot be changed after creation.this immutability ensures data integrity by preventing accidental modifications."
   ]
  },
  {
   "cell_type": "code",
   "execution_count": 9,
   "id": "dd221684-cbda-4299-ac0b-de59e5b53692",
   "metadata": {},
   "outputs": [],
   "source": [
    "# Q-8  What is a hash table, and how does it relate to dictionaries in Python?\n",
    "#Ans- Dictionaries are created in python using hash table and keys of dictionary are immuatable or hashed or unique."
   ]
  },
  {
   "cell_type": "code",
   "execution_count": 10,
   "id": "c0e96937-68cf-46f2-b9fb-465e474fc1cf",
   "metadata": {},
   "outputs": [
    {
     "data": {
      "text/plain": [
       "[2, 2.3, True, 'data science', (3+5j), {'depatment': 'finamce'}, (10, 20, 40)]"
      ]
     },
     "execution_count": 10,
     "metadata": {},
     "output_type": "execute_result"
    }
   ],
   "source": [
    "# Q-9  Can lists contain different data types in Python?\n",
    "# Ans- yes ,list contain different data types in python.\n",
    "list=[2,2.3,True,\"data science\",3+5j,{\"depatment\":\"finamce\"},(10,20,40)]\n",
    "list"
   ]
  },
  {
   "cell_type": "code",
   "execution_count": 11,
   "id": "64f0b86c-ebf5-4b43-aa01-c24670c11810",
   "metadata": {},
   "outputs": [
    {
     "ename": "TypeError",
     "evalue": "'str' object does not support item assignment",
     "output_type": "error",
     "traceback": [
      "\u001b[1;31m---------------------------------------------------------------------------\u001b[0m",
      "\u001b[1;31mTypeError\u001b[0m                                 Traceback (most recent call last)",
      "Cell \u001b[1;32mIn[11], line 5\u001b[0m\n\u001b[0;32m      1\u001b[0m \u001b[38;5;66;03m#Q-10 Explain why strings are immutable in Python.\u001b[39;00m\n\u001b[0;32m      2\u001b[0m \u001b[38;5;66;03m# Ans- strings are immutable because it does not support item assignment maens we cannot update in a string at a particular index.\u001b[39;00m\n\u001b[0;32m      4\u001b[0m string2\u001b[38;5;241m=\u001b[39m \u001b[38;5;124m\"\u001b[39m\u001b[38;5;124mi am hemant learing data science from pwskills\u001b[39m\u001b[38;5;124m\"\u001b[39m\n\u001b[1;32m----> 5\u001b[0m \u001b[43mstring2\u001b[49m\u001b[43m[\u001b[49m\u001b[38;5;241;43m5\u001b[39;49m\u001b[43m]\u001b[49m\u001b[38;5;241m=\u001b[39m\u001b[38;5;124m\"\u001b[39m\u001b[38;5;124manalytics\u001b[39m\u001b[38;5;124m\"\u001b[39m                                      \u001b[38;5;66;03m#it gives error\u001b[39;00m\n",
      "\u001b[1;31mTypeError\u001b[0m: 'str' object does not support item assignment"
     ]
    }
   ],
   "source": [
    "#Q-10 Explain why strings are immutable in Python.\n",
    "# Ans- strings are immutable because it does not support item assignment maens we cannot update in a string at a particular index.\n",
    "\n",
    "string2= \"i am hemant learing data science from pwskills\"\n",
    "string2[5]=\"analytics\"                                      #it gives error"
   ]
  },
  {
   "cell_type": "code",
   "execution_count": 12,
   "id": "a5a3aa69-fd8b-4709-a67b-40d863878cd7",
   "metadata": {},
   "outputs": [],
   "source": [
    "#Q-11  What advantages do dictionaries offer over lists for certain tasks?\n",
    "#Ans- when we need fast access we use dictionary because it allows direct access to values by keys.\n",
    "    #The values of lists are accessed by indexing while in dictionary the values are acceseed by keys."
   ]
  },
  {
   "cell_type": "code",
   "execution_count": 13,
   "id": "8b32b37f-bfa0-4054-90a0-6996d8d40bbd",
   "metadata": {},
   "outputs": [],
   "source": [
    "#Q-12 Describe a scenario where using a tuple would be preferable over a list.\n",
    "#Ans- when we store data like aadhar card no of employees then we use tuples because once aadhar card no. create it can't change."
   ]
  },
  {
   "cell_type": "code",
   "execution_count": 14,
   "id": "0cc6e31a-5239-4b15-af1b-4c9035ac9019",
   "metadata": {},
   "outputs": [
    {
     "data": {
      "text/plain": [
       "{10, 37, 'hemant'}"
      ]
     },
     "execution_count": 14,
     "metadata": {},
     "output_type": "execute_result"
    }
   ],
   "source": [
    "#Q-13 How do sets handle duplicate values in Python?\n",
    "# Ans- set automatically removes duplicates values because they store only unique values.\n",
    "set={10,37,37,\"hemant\",\"hemant\"}\n",
    "set"
   ]
  },
  {
   "cell_type": "code",
   "execution_count": 15,
   "id": "76c23355-b5f4-497a-80c0-82ac3db582d0",
   "metadata": {},
   "outputs": [],
   "source": [
    "#Q-14 How does the “in” keyword work differently for lists and dictionaries?\n",
    "#Ans- \"in\" keyword is used with lists it searches value sequentially while \"in\" keyword is used with dictionaries it checks keys not values. "
   ]
  },
  {
   "cell_type": "code",
   "execution_count": 16,
   "id": "3770dc29-a422-4a28-9e79-a590fb995783",
   "metadata": {},
   "outputs": [
    {
     "ename": "TypeError",
     "evalue": "'tuple' object does not support item assignment",
     "output_type": "error",
     "traceback": [
      "\u001b[1;31m---------------------------------------------------------------------------\u001b[0m",
      "\u001b[1;31mTypeError\u001b[0m                                 Traceback (most recent call last)",
      "Cell \u001b[1;32mIn[16], line 4\u001b[0m\n\u001b[0;32m      1\u001b[0m \u001b[38;5;66;03m#Q-15 Can you modify the elements of a tuple? Explain why or why not.\u001b[39;00m\n\u001b[0;32m      2\u001b[0m \u001b[38;5;66;03m#Ans-No, we can't modify the elements of tuples because tuples are immutable.once a tuple is created its elements cannot be changed,added,removed.\u001b[39;00m\n\u001b[0;32m      3\u001b[0m t\u001b[38;5;241m=\u001b[39m(\u001b[38;5;241m10\u001b[39m,\u001b[38;5;241m20\u001b[39m,\u001b[38;5;241m30\u001b[39m,\u001b[38;5;124m\"\u001b[39m\u001b[38;5;124mhemant\u001b[39m\u001b[38;5;124m\"\u001b[39m)\n\u001b[1;32m----> 4\u001b[0m \u001b[43mt\u001b[49m\u001b[43m[\u001b[49m\u001b[38;5;241;43m2\u001b[39;49m\u001b[43m]\u001b[49m\u001b[38;5;241m=\u001b[39m\u001b[38;5;241m100\u001b[39m              \u001b[38;5;66;03m#it gives error\u001b[39;00m\n",
      "\u001b[1;31mTypeError\u001b[0m: 'tuple' object does not support item assignment"
     ]
    }
   ],
   "source": [
    "#Q-15 Can you modify the elements of a tuple? Explain why or why not.\n",
    "#Ans-No, we can't modify the elements of tuples because tuples are immutable.once a tuple is created its elements cannot be changed,added,removed.\n",
    "t=(10,20,30,\"hemant\")\n",
    "t[2]=100              #it gives error"
   ]
  },
  {
   "cell_type": "code",
   "execution_count": 17,
   "id": "7c69b967-54d2-4219-adc0-b64ee264bdcf",
   "metadata": {},
   "outputs": [
    {
     "data": {
      "text/plain": [
       "100000"
      ]
     },
     "execution_count": 17,
     "metadata": {},
     "output_type": "execute_result"
    }
   ],
   "source": [
    "#Q-16 What is a nested dictionary, and give an example of its use case?\n",
    "#Ans- A nested dictionary is dictionary inside another dictionary.\n",
    "# example-If want to store data of employee records.\n",
    "employee_records={\n",
    "    \"E101\":{\"name\":\"hemant\",\"role\":\"data scientist\",\"salary\":100000},\n",
    "    \"E102\":{\"name\":\"sudha\",\"role\":\"lecturer\",\"salary\":78000},\n",
    "    \"E103\":{\"name\":\"hemlata\",\"role\":\"lecturer\",\"salary\":78000}\n",
    "}\n",
    "employee_records[\"E101\"][\"salary\"]"
   ]
  },
  {
   "cell_type": "code",
   "execution_count": 18,
   "id": "fbb925c3-86c9-4199-b9e1-d07cd650a015",
   "metadata": {},
   "outputs": [
    {
     "name": "stdout",
     "output_type": "stream",
     "text": [
      "hemant\n",
      "sudha\n"
     ]
    }
   ],
   "source": [
    "#Q-17 Describe the time complexity of accessing elements in a dictionary.\n",
    "#Ans- we accessing the elements of dictionaries by get() function or key.\n",
    "print(employee_records.get(\"E101\").get(\"name\"))\n",
    "print(employee_records[\"E102\"][\"name\"])"
   ]
  },
  {
   "cell_type": "code",
   "execution_count": 19,
   "id": "46d1f957-91b1-47e7-a5a5-221e54ed1484",
   "metadata": {},
   "outputs": [],
   "source": [
    "#Q-18 In what situations are lists preferred over dictionaries?\n",
    "#Ans- when we need index based access which is more suitable for sequential access.\n",
    "    #If we want to store similar data without unique key's we prefer lists over dictionaries."
   ]
  },
  {
   "cell_type": "code",
   "execution_count": 20,
   "id": "5240a81a-989b-4abd-a1d5-d5f10e370752",
   "metadata": {},
   "outputs": [],
   "source": [
    "# Q-20  Explain the difference between a list and a dictionary in terms of data retrieval.\n",
    "# Ans-  list retrieve data on the basis of indexes while dictionaries retrieve data on the basis of key's."
   ]
  },
  {
   "cell_type": "markdown",
   "id": "ab9b11b5-2a51-4367-89c4-9067ab968647",
   "metadata": {},
   "source": [
    "# Practical Questions"
   ]
  },
  {
   "cell_type": "code",
   "execution_count": 21,
   "id": "411103de-d586-4022-a71c-fb55e5d043cf",
   "metadata": {},
   "outputs": [
    {
     "name": "stdout",
     "output_type": "stream",
     "text": [
      "Hemant\n"
     ]
    }
   ],
   "source": [
    "#Q-1  Write a code to create a string with your name and print it.\n",
    "name=\"Hemant\"\n",
    "print(name)"
   ]
  },
  {
   "cell_type": "code",
   "execution_count": 22,
   "id": "275775b7-5893-4f5b-9853-eadd8154d842",
   "metadata": {},
   "outputs": [
    {
     "data": {
      "text/plain": [
       "11"
      ]
     },
     "execution_count": 22,
     "metadata": {},
     "output_type": "execute_result"
    }
   ],
   "source": [
    "#Q-2 Write a code to find the length of the string \"Hello World\".\n",
    "len(\"Hello World\")"
   ]
  },
  {
   "cell_type": "code",
   "execution_count": 23,
   "id": "fb2d25be-4759-4af3-805f-a342c64ce078",
   "metadata": {},
   "outputs": [
    {
     "data": {
      "text/plain": [
       "'Pyt'"
      ]
     },
     "execution_count": 23,
     "metadata": {},
     "output_type": "execute_result"
    }
   ],
   "source": [
    "#Q-3  Write a code to slice the first 3 characters from the string \"Python Programming\".\n",
    "s=\"Python Proramming\"\n",
    "s[0:3]"
   ]
  },
  {
   "cell_type": "code",
   "execution_count": 24,
   "id": "571cf3b0-4642-4810-a774-52548b626939",
   "metadata": {},
   "outputs": [
    {
     "data": {
      "text/plain": [
       "'HELLO'"
      ]
     },
     "execution_count": 24,
     "metadata": {},
     "output_type": "execute_result"
    }
   ],
   "source": [
    "#Q-4 Write a code to convert the string \"hello\" to uppercase.\n",
    "s1=\"hello\"\n",
    "s1.upper()"
   ]
  },
  {
   "cell_type": "code",
   "execution_count": 25,
   "id": "591840cc-0315-4d72-8913-d52465365715",
   "metadata": {},
   "outputs": [
    {
     "data": {
      "text/plain": [
       "'I like orange'"
      ]
     },
     "execution_count": 25,
     "metadata": {},
     "output_type": "execute_result"
    }
   ],
   "source": [
    "#Q-5 Write a code to replace the word \"apple\" with \"orange\" in the string \"I like apple\".\n",
    "s2=\"I like apple\"\n",
    "s2.replace(\"apple\",\"orange\")"
   ]
  },
  {
   "cell_type": "code",
   "execution_count": 26,
   "id": "81f25301-3be0-41d3-915d-f56cfa62508d",
   "metadata": {},
   "outputs": [
    {
     "name": "stdout",
     "output_type": "stream",
     "text": [
      "[1, 2, 3, 4, 5]\n"
     ]
    }
   ],
   "source": [
    "# Q-6 Write a code to create a list with numbers 1 to 5 and print it.\n",
    "list=[]\n",
    "for i in range(1,6):\n",
    "    list.append(i)\n",
    "print(list)    "
   ]
  },
  {
   "cell_type": "code",
   "execution_count": 27,
   "id": "bf83367e-e471-40cf-85bc-f0e656a75bb8",
   "metadata": {},
   "outputs": [
    {
     "name": "stdout",
     "output_type": "stream",
     "text": [
      "[1, 2, 3, 4, 5, 10]\n"
     ]
    }
   ],
   "source": [
    "#Q-7 Write a code to append the number 10 to the list [1, 2, 3, 4].\n",
    "l=[1,2,3,4,5]\n",
    "l.append(10)\n",
    "print(l)"
   ]
  },
  {
   "cell_type": "code",
   "execution_count": 28,
   "id": "9ceb9c32-bec0-4844-b459-875a1042cf9d",
   "metadata": {},
   "outputs": [
    {
     "name": "stdout",
     "output_type": "stream",
     "text": [
      "[1, 2, 4, 5]\n"
     ]
    }
   ],
   "source": [
    "# Q-8  Write a code to remove the number 3 from the list [1, 2, 3, 4, 5].\n",
    "l=[1,2,3,4,5]\n",
    "l.remove(3)\n",
    "print(l)\n"
   ]
  },
  {
   "cell_type": "code",
   "execution_count": 29,
   "id": "5989307e-f65d-40b7-8c89-f2d951e74df1",
   "metadata": {},
   "outputs": [
    {
     "data": {
      "text/plain": [
       "'b'"
      ]
     },
     "execution_count": 29,
     "metadata": {},
     "output_type": "execute_result"
    }
   ],
   "source": [
    "#Q-9  Write a code to access the second element in the list ['a', 'b', 'c', 'd']\n",
    "l=['a','b','c','d']\n",
    "l[1]"
   ]
  },
  {
   "cell_type": "code",
   "execution_count": 30,
   "id": "098c4dd8-6f98-47c7-bc34-3dcfdd254f6c",
   "metadata": {},
   "outputs": [
    {
     "data": {
      "text/plain": [
       "[50, 40, 30, 20, 10]"
      ]
     },
     "execution_count": 30,
     "metadata": {},
     "output_type": "execute_result"
    }
   ],
   "source": [
    "#Q-10  Write a code to reverse the list [10, 20, 30, 40, 50].\n",
    "l=[10,20,30,40,50]\n",
    "l[::-1]"
   ]
  },
  {
   "cell_type": "code",
   "execution_count": 31,
   "id": "c10508bc-29c2-43c4-90c3-82e80a05b9fd",
   "metadata": {},
   "outputs": [
    {
     "name": "stdout",
     "output_type": "stream",
     "text": [
      "(100, 200, 300)\n"
     ]
    }
   ],
   "source": [
    "# Q-11. Write a code to create a tuple with the elements 100, 200, 300 and print it.\n",
    "tuple=(100,200,300)\n",
    "print(tuple)"
   ]
  },
  {
   "cell_type": "code",
   "execution_count": 32,
   "id": "ce873e5f-7d71-486f-bdb9-5afa0a3ec950",
   "metadata": {},
   "outputs": [
    {
     "data": {
      "text/plain": [
       "('green', 'blue', 'yellow')"
      ]
     },
     "execution_count": 32,
     "metadata": {},
     "output_type": "execute_result"
    }
   ],
   "source": [
    "# Q-12 Write a code to access the second-to-last element of the tuple ('red', 'green', 'blue', 'yellow').\n",
    "t=('red','green','blue','yellow')\n",
    "t[1:]"
   ]
  },
  {
   "cell_type": "code",
   "execution_count": 33,
   "id": "181733a5-0cda-4d3f-bf2b-82b29005eb12",
   "metadata": {},
   "outputs": [
    {
     "data": {
      "text/plain": [
       "5"
      ]
     },
     "execution_count": 33,
     "metadata": {},
     "output_type": "execute_result"
    }
   ],
   "source": [
    "#Q- 13. Write a code to find the minimum number in the tuple (10, 20, 5, 15).\n",
    "t=(10,20,5,15)\n",
    "min(t)"
   ]
  },
  {
   "cell_type": "code",
   "execution_count": 34,
   "id": "58462947-abc0-4c09-9bd4-157389e405ed",
   "metadata": {},
   "outputs": [
    {
     "data": {
      "text/plain": [
       "1"
      ]
     },
     "execution_count": 34,
     "metadata": {},
     "output_type": "execute_result"
    }
   ],
   "source": [
    "#Q- 14. Write a code to find the index of the element \"cat\" in the tuple ('dog', 'cat', 'rabbit').\n",
    "t=('dog','cat','rabbit')\n",
    "t.index('cat')"
   ]
  },
  {
   "cell_type": "code",
   "execution_count": 35,
   "id": "0e3bd990-2054-429f-9837-a8879d039a40",
   "metadata": {},
   "outputs": [
    {
     "name": "stdout",
     "output_type": "stream",
     "text": [
      "kiwi is present\n"
     ]
    }
   ],
   "source": [
    "#Q-15. Write a code to create a tuple containing three different fruits and check if \"kiwi\" is in it.\n",
    "t=(\"orange\",\"mango\",\"kiwi\")\n",
    "if \"kiwi\" in t:\n",
    "    print(\"kiwi is present\")\n",
    "else:\n",
    "    print(\"kiwi is not present\")"
   ]
  },
  {
   "cell_type": "code",
   "execution_count": 36,
   "id": "0d677c25-2a21-47a4-b19d-94f8fed978fd",
   "metadata": {},
   "outputs": [
    {
     "name": "stdout",
     "output_type": "stream",
     "text": [
      "{'a', 'c', 'b'}\n"
     ]
    }
   ],
   "source": [
    "# Q-16. Write a code to create a set with the elements 'a', 'b', 'c' and print it.\n",
    "set={'a','b','c'}\n",
    "print(set)"
   ]
  },
  {
   "cell_type": "code",
   "execution_count": 37,
   "id": "b63292b7-7dae-43b4-8862-cede0ce65384",
   "metadata": {},
   "outputs": [
    {
     "name": "stdout",
     "output_type": "stream",
     "text": [
      "set()\n"
     ]
    }
   ],
   "source": [
    "#Q- 17. Write a code to clear all elements from the set {1, 2, 3, 4, 5}.\n",
    "s={1,2,3,4,5}\n",
    "s.clear()\n",
    "print(s)"
   ]
  },
  {
   "cell_type": "code",
   "execution_count": 38,
   "id": "1113ae5e-a05b-45b2-be29-cf7e54047541",
   "metadata": {},
   "outputs": [
    {
     "data": {
      "text/plain": [
       "{1, 2, 3}"
      ]
     },
     "execution_count": 38,
     "metadata": {},
     "output_type": "execute_result"
    }
   ],
   "source": [
    "#Q- 18. Write a code to remove the element 4 from the set {1, 2, 3, 4}.\n",
    "num={1,2,3,4}\n",
    "num.remove(4)\n",
    "num"
   ]
  },
  {
   "cell_type": "code",
   "execution_count": 39,
   "id": "8a5f79e8-c542-48d5-b294-398959d0f8a3",
   "metadata": {},
   "outputs": [
    {
     "data": {
      "text/plain": [
       "{1, 2, 3, 4, 5}"
      ]
     },
     "execution_count": 39,
     "metadata": {},
     "output_type": "execute_result"
    }
   ],
   "source": [
    "#Q- 19. Write a code to find the union of two sets {1, 2, 3} and {3, 4, 5}.\n",
    "A={1,2,3}\n",
    "B={3,4,5}\n",
    "A|B"
   ]
  },
  {
   "cell_type": "code",
   "execution_count": 40,
   "id": "3c93be64-05f9-492b-bdde-5b4c8cedd08a",
   "metadata": {},
   "outputs": [
    {
     "data": {
      "text/plain": [
       "{2, 3}"
      ]
     },
     "execution_count": 40,
     "metadata": {},
     "output_type": "execute_result"
    }
   ],
   "source": [
    "#Q- 20. Write a code to find the intersection of two sets {1, 2, 3} and {2, 3, 4}.\n",
    "A={1,2,3}\n",
    "B={2,3,4}\n",
    "A&B"
   ]
  },
  {
   "cell_type": "code",
   "execution_count": 41,
   "id": "c8a954d6-8361-4651-9f62-13e00252171a",
   "metadata": {},
   "outputs": [
    {
     "data": {
      "text/plain": [
       "{'name': 'hemant', 'age': 25, 'city': 'mahenderagrh'}"
      ]
     },
     "execution_count": 41,
     "metadata": {},
     "output_type": "execute_result"
    }
   ],
   "source": [
    "#Q- 21. Write a code to create a dictionary with the keys \"name\", \"age\", and \"city\", and print it.\n",
    "dict={\"name\":\"hemant\",\"age\":25,\"city\":\"mahenderagrh\"}\n",
    "dict"
   ]
  },
  {
   "cell_type": "code",
   "execution_count": 42,
   "id": "991708cc-3457-4246-b089-9108e6866ec2",
   "metadata": {},
   "outputs": [
    {
     "data": {
      "text/plain": [
       "{'name': 'john', 'age': 25, 'country': 'USA'}"
      ]
     },
     "execution_count": 42,
     "metadata": {},
     "output_type": "execute_result"
    }
   ],
   "source": [
    "#Q- 22. Write a code to add a new key-value pair \"country\": \"USA\" to the dictionary {'name': 'John', 'age': 25}.\n",
    "dict={'name':'john','age':25}\n",
    "dict['country']='USA'\n",
    "dict"
   ]
  },
  {
   "cell_type": "code",
   "execution_count": 43,
   "id": "a4b1979c-df10-482f-885a-178b454ce153",
   "metadata": {},
   "outputs": [
    {
     "data": {
      "text/plain": [
       "'Alice'"
      ]
     },
     "execution_count": 43,
     "metadata": {},
     "output_type": "execute_result"
    }
   ],
   "source": [
    "#Q-23. Write a code to access the value associated with the key \"name\" in the dictionary {'name': 'Alice', 'age': 30}.\n",
    "dict={'name':'Alice','age':30}\n",
    "dict['name']"
   ]
  },
  {
   "cell_type": "code",
   "execution_count": 44,
   "id": "4f94f98d-ba79-47b6-95c0-b561b238d505",
   "metadata": {},
   "outputs": [
    {
     "data": {
      "text/plain": [
       "{'name': 'Bob', 'city': 'New york'}"
      ]
     },
     "execution_count": 44,
     "metadata": {},
     "output_type": "execute_result"
    }
   ],
   "source": [
    "#Q- 24. Write a code to remove the key \"age\" from the dictionary {'name': 'Bob', 'age': 22, 'city': 'New York'}.\n",
    "dict={'name':'Bob','age':22,'city':'New york'}\n",
    "dict.pop('age')\n",
    "dict"
   ]
  },
  {
   "cell_type": "code",
   "execution_count": 45,
   "id": "419cea55-80be-4ec9-98fe-dac253f2d3fc",
   "metadata": {},
   "outputs": [
    {
     "name": "stdout",
     "output_type": "stream",
     "text": [
      "city exists\n"
     ]
    }
   ],
   "source": [
    "#Q- 25. Write a code to check if the key \"city\" exists in the dictionary {'name': 'Alice', 'city': 'Paris'}.\n",
    "dict={'name':'Alice','city':'paris'}\n",
    "if 'city' in dict:\n",
    "    print(\"city exists\")\n",
    "else:\n",
    "    print(\"city not exists\")"
   ]
  },
  {
   "cell_type": "code",
   "execution_count": 46,
   "id": "6d33a60a-31f7-4231-b478-aeb2a808e390",
   "metadata": {},
   "outputs": [
    {
     "name": "stdout",
     "output_type": "stream",
     "text": [
      "[10, 20, 40, (3+5j), 'hemant']\n",
      "(10, 30, 50, 60)\n",
      "{'name': 'hemant', 'age': 25, 'salary': 120000}\n"
     ]
    }
   ],
   "source": [
    "#Q-26. Write a code to create a list, a tuple, and a dictionary, and print them all.\n",
    "list=[10,20,40,3+5j,\"hemant\"]\n",
    "tuple=(10,30,50,60)\n",
    "dict={'name':'hemant','age':25,'salary':120000}\n",
    "print(list)\n",
    "print(tuple)\n",
    "print(dict)"
   ]
  },
  {
   "cell_type": "code",
   "execution_count": 47,
   "id": "e88bb639-f4f6-4f3f-b62e-27bcb9e1ea68",
   "metadata": {},
   "outputs": [
    {
     "name": "stdout",
     "output_type": "stream",
     "text": [
      "sorted random numbers: [10, 42, 73, 80, 90]\n"
     ]
    }
   ],
   "source": [
    "#Q- 27. Write a code to create a list of 5 random numbers between 1 and 100, sort it in ascending order, and print the result(replaced)\n",
    "import random\n",
    "random_numbers= random.sample(range(1,101),5)\n",
    "random_numbers.sort()\n",
    "print(\"sorted random numbers:\",random_numbers)"
   ]
  },
  {
   "cell_type": "code",
   "execution_count": 48,
   "id": "0c7263b1-5526-402c-a01f-72b38ca7c881",
   "metadata": {},
   "outputs": [
    {
     "data": {
      "text/plain": [
       "'chandigarh'"
      ]
     },
     "execution_count": 48,
     "metadata": {},
     "output_type": "execute_result"
    }
   ],
   "source": [
    "#Q-28. Write a code to create a list with strings and print the element at the third index.\n",
    "city=[\"jaipur\",\"delhi\",\"gurugram\",\"chandigarh\",\"noida\"]\n",
    "city[3]"
   ]
  },
  {
   "cell_type": "code",
   "execution_count": 49,
   "id": "a06c7d38-fe8a-4990-96fe-def11869d9c2",
   "metadata": {},
   "outputs": [
    {
     "data": {
      "text/plain": [
       "{'name': 'hemant',\n",
       " 'age': 25,\n",
       " 'salary': 120000,\n",
       " 'department': 'data science',\n",
       " 'city': 'gurugram'}"
      ]
     },
     "execution_count": 49,
     "metadata": {},
     "output_type": "execute_result"
    }
   ],
   "source": [
    "#Q-29. Write a code to combine two dictionaries into one and print the result.\n",
    "dict1={\"name\":\"hemant\",\"age\":25,\"salary\":120000}\n",
    "dict2= {\"department\":\"data science\",\"city\":\"gurugram\"}\n",
    "dict1.update(dict2)\n",
    "dict1"
   ]
  },
  {
   "cell_type": "code",
   "execution_count": 1,
   "id": "e758dab5-3c34-4e7b-949c-a12681d73eab",
   "metadata": {},
   "outputs": [
    {
     "name": "stdout",
     "output_type": "stream",
     "text": [
      "{'rajesh', 'rohan', 'manju', 'sushila', 'hemant', 'mahipal'}\n"
     ]
    }
   ],
   "source": [
    "#Q-30. Write a code to convert a list of strings into a set.\n",
    "l= [\"rohan\",\"manju\",\"mahipal\",\"rajesh\",\"hemant\",\"manju\",\"sushila\"]\n",
    "s=set(l)\n",
    "print(s)"
   ]
  },
  {
   "cell_type": "code",
   "execution_count": null,
   "id": "49027dd6-f9fe-473c-9d2e-9d82307f2afb",
   "metadata": {},
   "outputs": [],
   "source": []
  },
  {
   "cell_type": "code",
   "execution_count": null,
   "id": "01040812-c02a-47c3-b94a-377408385569",
   "metadata": {},
   "outputs": [],
   "source": []
  }
 ],
 "metadata": {
  "kernelspec": {
   "display_name": "Python 3 (ipykernel)",
   "language": "python",
   "name": "python3"
  },
  "language_info": {
   "codemirror_mode": {
    "name": "ipython",
    "version": 3
   },
   "file_extension": ".py",
   "mimetype": "text/x-python",
   "name": "python",
   "nbconvert_exporter": "python",
   "pygments_lexer": "ipython3",
   "version": "3.12.6"
  }
 },
 "nbformat": 4,
 "nbformat_minor": 5
}
